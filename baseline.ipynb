{
 "cells": [
  {
   "cell_type": "markdown",
   "metadata": {},
   "source": [
    "##Baseline Facial Recognition\n",
    "\n",
    "It's the least we can do"
   ]
  },
  {
   "cell_type": "code",
   "execution_count": 37,
   "metadata": {
    "collapsed": false
   },
   "outputs": [],
   "source": [
    "%matplotlib inline\n",
    "import numpy as np\n",
    "import matplotlib.pyplot as plt\n",
    "import pandas as pnd"
   ]
  },
  {
   "cell_type": "code",
   "execution_count": 57,
   "metadata": {
    "collapsed": false
   },
   "outputs": [],
   "source": [
    "\"\"\"load data\"\"\"\n",
    "with open('dataraw/training.csv','rb') as f_in:\n",
    "    train = pnd.read_csv(f_in)\n",
    "with open('dataraw/test.csv','rb') as f_in:\n",
    "    test = pnd.read_csv(f_in)\n",
    "    "
   ]
  },
  {
   "cell_type": "code",
   "execution_count": 103,
   "metadata": {
    "collapsed": false
   },
   "outputs": [
    {
     "name": "stdout",
     "output_type": "stream",
     "text": [
      "(1783, 2)\n"
     ]
    }
   ],
   "source": [
    "\"\"\"set aside dev data\"\"\"\n",
    "test_labels, test_data = test.iloc[:,:30], test.iloc[:,30:]\n",
    "print test_labels.shape\n",
    "train_labels, train_data = train.iloc[:,:30], train.iloc[:,30:]\n",
    "\n",
    "dev_data, dev_labels = train_data[5000:], train_labels.iloc[5000:]\n",
    "train_data, train_labels = train_data[:5000], train_labels[:5000]"
   ]
  },
  {
   "cell_type": "code",
   "execution_count": 118,
   "metadata": {
    "collapsed": false
   },
   "outputs": [
    {
     "data": {
      "text/html": [
       "<div style=\"max-height:1000px;max-width:1500px;overflow:auto;\">\n",
       "<table border=\"1\" class=\"dataframe\">\n",
       "  <thead>\n",
       "    <tr style=\"text-align: right;\">\n",
       "      <th></th>\n",
       "      <th>ImageId</th>\n",
       "      <th>FeatureName</th>\n",
       "    </tr>\n",
       "  </thead>\n",
       "  <tbody>\n",
       "    <tr>\n",
       "      <th>0</th>\n",
       "      <td>1</td>\n",
       "      <td>left_eye_center_x</td>\n",
       "    </tr>\n",
       "    <tr>\n",
       "      <th>1</th>\n",
       "      <td>1</td>\n",
       "      <td>left_eye_center_y</td>\n",
       "    </tr>\n",
       "    <tr>\n",
       "      <th>2</th>\n",
       "      <td>1</td>\n",
       "      <td>right_eye_center_x</td>\n",
       "    </tr>\n",
       "    <tr>\n",
       "      <th>3</th>\n",
       "      <td>1</td>\n",
       "      <td>right_eye_center_y</td>\n",
       "    </tr>\n",
       "    <tr>\n",
       "      <th>4</th>\n",
       "      <td>1</td>\n",
       "      <td>left_eye_inner_corner_x</td>\n",
       "    </tr>\n",
       "  </tbody>\n",
       "</table>\n",
       "</div>"
      ],
      "text/plain": [
       "   ImageId              FeatureName\n",
       "0        1        left_eye_center_x\n",
       "1        1        left_eye_center_y\n",
       "2        1       right_eye_center_x\n",
       "3        1       right_eye_center_y\n",
       "4        1  left_eye_inner_corner_x"
      ]
     },
     "execution_count": 118,
     "metadata": {},
     "output_type": "execute_result"
    }
   ],
   "source": [
    "submission_format = pnd.read_csv('dataraw/IdLookupTable.csv').iloc[:,1:3]\n",
    "submission_format.head()"
   ]
  },
  {
   "cell_type": "code",
   "execution_count": 129,
   "metadata": {
    "collapsed": false
   },
   "outputs": [
    {
     "name": "stdout",
     "output_type": "stream",
     "text": [
      "RowId\n",
      "1    66.280655\n",
      "2    37.508240\n",
      "3    30.148240\n",
      "4    37.833760\n",
      "5    59.159339\n",
      "Name: Location, dtype: float64\n"
     ]
    }
   ],
   "source": [
    "mean_scores = train_labels.mean(0)\n",
    "crap_submission = {a: mean_scores[a] for a in mean_scores.index}\n",
    "crap_submission['ImageId'] = range(1,test_labels.shape[0]+1,1)\n",
    "# print crap_submission\n",
    "submit = pnd.DataFrame(crap_submission)\n",
    "submit_long = pnd.melt(submit, id_vars = ['ImageId'], var_name = 'FeatureName', value_name = 'Location')\n",
    "\n",
    "submit_merge = pnd.merge(submission_format, submit_long, how='left', on=['ImageId','FeatureName'])\n",
    "\n",
    "submit_merge_small = submit_merge.iloc[:,2]\n",
    "submit_merge_small.index = range(1,submit_merge_small.shape[0]+1,1)\n",
    "submit_merge_small.index.name = 'RowId'\n",
    "print submit_merge_small.head()\n"
   ]
  },
  {
   "cell_type": "code",
   "execution_count": 130,
   "metadata": {
    "collapsed": false
   },
   "outputs": [],
   "source": [
    "# create submission\n",
    "submit_merge_small.to_csv('submissions/baseline.csv', header=['Location'])"
   ]
  },
  {
   "cell_type": "markdown",
   "metadata": {},
   "source": []
  }
 ],
 "metadata": {
  "kernelspec": {
   "display_name": "Python 2",
   "language": "python",
   "name": "python2"
  },
  "language_info": {
   "codemirror_mode": {
    "name": "ipython",
    "version": 2
   },
   "file_extension": ".py",
   "mimetype": "text/x-python",
   "name": "python",
   "nbconvert_exporter": "python",
   "pygments_lexer": "ipython2",
   "version": "2.7.8"
  }
 },
 "nbformat": 4,
 "nbformat_minor": 0
}
